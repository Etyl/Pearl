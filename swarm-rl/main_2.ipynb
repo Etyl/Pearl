{
 "cells": [
  {
   "cell_type": "code",
   "execution_count": 1,
   "id": "initial_id",
   "metadata": {
    "ExecuteTime": {
     "end_time": "2025-01-06T01:48:35.383617Z",
     "start_time": "2025-01-06T01:48:30.074647Z"
    },
    "collapsed": true,
    "jupyter": {
     "outputs_hidden": true
    }
   },
   "outputs": [],
   "source": [
    "import json\n",
    "import time\n",
    "from collections import defaultdict\n",
    "\n",
    "import torch\n",
    "import math\n",
    "from typing import Optional, Any\n",
    "import numpy as np\n",
    "import pickle\n",
    "\n",
    "from custom_buffer import WeightedReplayBuffer\n",
    "\n",
    "from pearl.replay_buffers import BasicReplayBuffer\n",
    "from pearl.utils.instantiations.spaces import DiscreteActionSpace\n",
    "from pearl import PearlAgent\n",
    "from pearl.utils.functional_utils.train_and_eval.learning_logger import LearningLogger, null_learning_logger\n",
    "from pearl.utils.functional_utils.experimentation.set_seed import set_seed\n",
    "from pearl.utils.functional_utils.train_and_eval.offline_learning_and_evaluation import TRAINING_TAG\n",
    "from pearl.replay_buffers import TransitionBatch, ReplayBuffer\n",
    "from pearl.policy_learners.sequential_decision_making.double_dqn import DoubleDQN\n",
    "from pearl.neural_networks.sequential_decision_making import VanillaContinuousActorNetwork\n",
    "from pearl.policy_learners.sequential_decision_making import ImplicitQLearning\n",
    "from pearl.utils.functional_utils.train_and_eval.offline_learning_and_evaluation import offline_evaluation,offline_learning\n",
    "from pearl.neural_networks.sequential_decision_making.q_value_networks import VanillaQValueNetwork, VanillaQValueMultiHeadNetwork\n",
    "from pearl.action_representation_modules.one_hot_action_representation_module import (\n",
    "    OneHotActionTensorRepresentationModule,\n",
    ")\n",
    "from pearl.neural_networks.sequential_decision_making.q_value_networks import MultiAgentQValueMultiHeadNetwork\n",
    "\n",
    "\n",
    "set_seed(42)\n"
   ]
  },
  {
   "cell_type": "code",
   "execution_count": 2,
   "id": "ad5932d4a9f11e42",
   "metadata": {
    "ExecuteTime": {
     "end_time": "2025-01-06T01:48:35.394864Z",
     "start_time": "2025-01-06T01:48:35.390582Z"
    }
   },
   "outputs": [],
   "source": [
    "FRONTIER_COUNT:int = 6 # the maximum number of selected frontiers\n",
    "FRONTIER_FEATURES:int = 6 # the number of features measured for each frontier\n",
    "OTHER_FRONTIER_INPUTS:int = 3 # other observations (current % explored area)\n",
    "\n",
    "OBSERVATION_SPACE:int = FRONTIER_COUNT*FRONTIER_FEATURES+OTHER_FRONTIER_INPUTS\n",
    "ACTION_SPACE:int = FRONTIER_COUNT"
   ]
  },
  {
   "cell_type": "code",
   "execution_count": 3,
   "id": "7e3216b5",
   "metadata": {
    "ExecuteTime": {
     "end_time": "2025-01-06T01:48:36.519180Z",
     "start_time": "2025-01-06T01:48:36.511240Z"
    }
   },
   "outputs": [
    {
     "name": "stdout",
     "output_type": "stream",
     "text": [
      "Number of GPUs: 3\n",
      "GPU 0: Tesla V100-PCIE-16GB\n",
      "GPU 1: Tesla V100-PCIE-32GB\n",
      "GPU 2: Tesla V100-PCIE-16GB\n"
     ]
    }
   ],
   "source": [
    "if torch.cuda.is_available():\n",
    "    num_gpus = torch.cuda.device_count()\n",
    "    print(f\"Number of GPUs: {num_gpus}\")\n",
    "    for i in range(num_gpus):\n",
    "        print(f\"GPU {i}: {torch.cuda.get_device_name(i)}\")\n",
    "else:\n",
    "    print(\"No GPUs available.\")"
   ]
  },
  {
   "cell_type": "code",
   "execution_count": 4,
   "id": "a3937b0139a19940",
   "metadata": {
    "ExecuteTime": {
     "end_time": "2025-01-06T01:48:36.549045Z",
     "start_time": "2025-01-06T01:48:36.542611Z"
    }
   },
   "outputs": [],
   "source": [
    "replay_buffer_size = 1_000_000\n",
    "device_id = 0\n",
    "is_action_continuous = False\n",
    "data_file_paths = [\n",
    "    \"data/rl-run-data.json\", \n",
    "    \"data/rl-run-dqn-1-data.json\",\n",
    "    \"data/rl-run-dqn-7-data.json\"]\n",
    "# data_file_paths = [\"data/rl-run-data.json\"]\n",
    "max_number_actions_if_discrete = ACTION_SPACE\n",
    "loss_log_file = \"loss.log\""
   ]
  },
  {
   "cell_type": "code",
   "execution_count": 5,
   "id": "801dfefd86e8147e",
   "metadata": {
    "ExecuteTime": {
     "end_time": "2025-01-06T01:48:36.605444Z",
     "start_time": "2025-01-06T01:48:36.590598Z"
    }
   },
   "outputs": [],
   "source": [
    "def load_transitions(buffer, path):\n",
    "    with open(path, \"r\") as f:\n",
    "        data_transitions = json.load(f)\n",
    "    \n",
    "    count = 0\n",
    "    for map_name in data_transitions:\n",
    "        for i in range(len(data_transitions[map_name])):\n",
    "            transitions = data_transitions[map_name][i][\"run\"]\n",
    "            episode = defaultdict(list)\n",
    "            score = np.sum(data_transitions[map_name][i][\"score\"])\n",
    "            for j in range(len(transitions[\"obs\"])):\n",
    "                transition = {}\n",
    "\n",
    "                transition[\"score\"] = [score]\n",
    "                \n",
    "                transition[\"observation\"] = np.array(transitions[\"obs\"][j], dtype=np.float32)\n",
    "                transition[\"action\"] = np.argmax(transitions[\"action\"][j])\n",
    "                transition[\"next_observation\"] = np.array(transitions[\"next_obs\"][j], dtype=np.float32)\n",
    "                transition[\"reward\"] = np.float32(\n",
    "                    transitions[\"reward\"][j][0] +\n",
    "                    10*transitions[\"obs\"][j][37]*transitions[\"obs\"][j][38]\n",
    "                )\n",
    "                transition[\"curr_available_actions\"] = DiscreteActionSpace(\n",
    "                    actions=list(\n",
    "                        torch.arange(len(transitions[\"action\"][j])).view(-1, 1)\n",
    "                    )\n",
    "                )\n",
    "                transition[\"next_available_actions\"] = DiscreteActionSpace(\n",
    "                    actions=list(\n",
    "                        torch.arange(len(transitions[\"action\"][j])).view(-1, 1)\n",
    "                    )\n",
    "                )\n",
    "                transition[\"terminated\"] = False\n",
    "                transition[\"truncated\"] = False\n",
    "                \n",
    "                # Ignore terminated transitions\n",
    "                if transition[\"reward\"] > 0.995:\n",
    "                    continue\n",
    "                    \n",
    "                # Suffle frontier order\n",
    "                permutation = np.random.permutation(FRONTIER_COUNT)\n",
    "                \n",
    "                for obs in [\"observation\", \"next_observation\"]:\n",
    "                    for i in range(FRONTIER_FEATURES):               \n",
    "                        transition[obs][FRONTIER_COUNT*i:FRONTIER_COUNT*(i+1)] = transition[obs][FRONTIER_COUNT*i:FRONTIER_COUNT*(i+1)][permutation]\n",
    "                \n",
    "                transition[\"action\"] = permutation[transition[\"action\"]]\n",
    "\n",
    "                assert len(transitions[\"action\"][j]) == ACTION_SPACE\n",
    "                assert len(transition[\"observation\"]) == OBSERVATION_SPACE\n",
    "                assert len(transition[\"next_observation\"]) == OBSERVATION_SPACE\n",
    "                \n",
    "                count += 1\n",
    "                for key in transition:\n",
    "                    episode[key].append(transition[key])\n",
    "                    \n",
    "            buffer.add_traj(episode, map_name)\n",
    "    print(f\"Loaded {count} transitions from {path}\")"
   ]
  },
  {
   "cell_type": "code",
   "execution_count": 6,
   "id": "d7b8eba4",
   "metadata": {
    "ExecuteTime": {
     "end_time": "2025-01-06T01:51:03.053640Z",
     "start_time": "2025-01-06T01:48:36.622055Z"
    }
   },
   "outputs": [
    {
     "name": "stdout",
     "output_type": "stream",
     "text": [
      "Loading data in buffer...\n",
      "Loaded 206585 transitions from data/rl-run-data.json\n",
      "Loaded 327293 transitions from data/rl-run-dqn-1-data.json\n",
      "Loaded 571913 transitions from data/rl-run-dqn-7-data.json\n",
      "Building buffer...\n"
     ]
    }
   ],
   "source": [
    "offline_data_replay_buffer = WeightedReplayBuffer(0.5)\n",
    "print(\"Loading data in buffer...\")\n",
    "for data_path in data_file_paths:\n",
    "    load_transitions(offline_data_replay_buffer, data_path)\n",
    "\n",
    "print(\"Building buffer...\")\n",
    "offline_data_replay_buffer.build_memory()"
   ]
  },
  {
   "cell_type": "code",
   "execution_count": 7,
   "id": "f355f9856ee816d",
   "metadata": {
    "ExecuteTime": {
     "end_time": "2025-01-06T01:51:03.077425Z",
     "start_time": "2025-01-06T01:51:03.072145Z"
    }
   },
   "outputs": [],
   "source": [
    "def loss_learning_logger(\n",
    "    results: dict[str, Any],\n",
    "    step: int,\n",
    "    batch: Optional[TransitionBatch] = None,\n",
    "    prefix: str = \"\",\n",
    ") -> None:\n",
    "    \"\"\"\n",
    "    A learning logger that does nothing.\n",
    "    \"\"\"\n",
    "    if \"loss\" in results:\n",
    "        with open(loss_log_file, \"a\") as f:\n",
    "            f.write(results[\"loss\"] + \"\\n\")"
   ]
  },
  {
   "cell_type": "code",
   "execution_count": 8,
   "id": "324fa51831dfb64",
   "metadata": {
    "ExecuteTime": {
     "end_time": "2025-01-06T01:51:05.463231Z",
     "start_time": "2025-01-06T01:51:03.112373Z"
    }
   },
   "outputs": [],
   "source": [
    "\n",
    "Q_value_network = MultiAgentQValueMultiHeadNetwork(\n",
    "    state_dim=OBSERVATION_SPACE,  # dimension of the state representation\n",
    "    action_dim=ACTION_SPACE,                    # dimension of the action representation\n",
    "    hidden_dims=[256,256],                   # dimensions of the intermediate layers\n",
    "    output_dim=ACTION_SPACE,\n",
    "    global_features=3,\n",
    "    local_features=6,\n",
    ")    \n",
    "\n",
    "action_space = DiscreteActionSpace(\n",
    "    actions=list(torch.arange(ACTION_SPACE).view(-1, 1))\n",
    ")\n",
    "\n",
    "agent = PearlAgent(\n",
    "    policy_learner=DoubleDQN(\n",
    "        state_dim=OBSERVATION_SPACE,\n",
    "        action_space=action_space,\n",
    "        batch_size=512,\n",
    "        training_rounds=10,\n",
    "        soft_update_tau=0.75,\n",
    "        network_instance=Q_value_network, # pass an instance of Q value network to the policy learner.\n",
    "        action_representation_module=OneHotActionTensorRepresentationModule(\n",
    "            max_number_actions=ACTION_SPACE\n",
    "        ),\n",
    "        is_conservative=True\n",
    "    ),\n",
    "    device_id=device_id,\n",
    ")\n"
   ]
  },
  {
   "cell_type": "code",
   "execution_count": 10,
   "id": "c44aac56bc2d3f1d",
   "metadata": {
    "ExecuteTime": {
     "end_time": "2025-01-06T01:51:43.668094700Z",
     "start_time": "2025-01-06T01:51:26.376375Z"
    }
   },
   "outputs": [
    {
     "name": "stderr",
     "output_type": "stream",
     "text": [
      "  0%|          | 4/107988 [00:07<53:03:11,  1.77s/it]\n"
     ]
    },
    {
     "ename": "KeyboardInterrupt",
     "evalue": "",
     "output_type": "error",
     "traceback": [
      "\u001b[0;31m---------------------------------------------------------------------------\u001b[0m",
      "\u001b[0;31mKeyboardInterrupt\u001b[0m                         Traceback (most recent call last)",
      "Cell \u001b[0;32mIn[10], line 8\u001b[0m\n\u001b[1;32m      5\u001b[0m \u001b[38;5;28;01mwith\u001b[39;00m \u001b[38;5;28mopen\u001b[39m(loss_log_file,\u001b[38;5;124m\"\u001b[39m\u001b[38;5;124mw\u001b[39m\u001b[38;5;124m\"\u001b[39m) \u001b[38;5;28;01mas\u001b[39;00m f:\n\u001b[1;32m      6\u001b[0m     \u001b[38;5;28;01mpass\u001b[39;00m\n\u001b[0;32m----> 8\u001b[0m \u001b[43moffline_learning\u001b[49m\u001b[43m(\u001b[49m\n\u001b[1;32m      9\u001b[0m \u001b[43m    \u001b[49m\u001b[43moffline_agent\u001b[49m\u001b[38;5;241;43m=\u001b[39;49m\u001b[43magent\u001b[49m\u001b[43m,\u001b[49m\n\u001b[1;32m     10\u001b[0m \u001b[43m    \u001b[49m\u001b[43mdata_buffer\u001b[49m\u001b[38;5;241;43m=\u001b[39;49m\u001b[43moffline_data_replay_buffer\u001b[49m\u001b[43m,\u001b[49m\u001b[43m \u001b[49m\u001b[38;5;66;43;03m# replay buffer created using the offline data\u001b[39;49;00m\n\u001b[1;32m     11\u001b[0m \u001b[43m    \u001b[49m\u001b[43mtraining_epochs\u001b[49m\u001b[38;5;241;43m=\u001b[39;49m\u001b[43mtraining_epochs\u001b[49m\u001b[43m,\u001b[49m\n\u001b[1;32m     12\u001b[0m \u001b[43m    \u001b[49m\u001b[43mseed\u001b[49m\u001b[38;5;241;43m=\u001b[39;49m\u001b[43mexperiment_seed\u001b[49m\u001b[43m,\u001b[49m\n\u001b[1;32m     13\u001b[0m \u001b[43m)\u001b[49m\n",
      "File \u001b[0;32m~/Pearl/pearl/utils/functional_utils/train_and_eval/offline_learning_and_evaluation.py:190\u001b[0m, in \u001b[0;36moffline_learning\u001b[0;34m(offline_agent, data_buffer, training_epochs, number_of_batches, learning_logger, seed)\u001b[0m\n\u001b[1;32m    188\u001b[0m \u001b[38;5;66;03m# training loop\u001b[39;00m\n\u001b[1;32m    189\u001b[0m \u001b[38;5;28;01mfor\u001b[39;00m i \u001b[38;5;129;01min\u001b[39;00m tqdm(\u001b[38;5;28mrange\u001b[39m(number_of_batches)):\n\u001b[0;32m--> 190\u001b[0m     batch \u001b[38;5;241m=\u001b[39m \u001b[43mdata_buffer\u001b[49m\u001b[38;5;241;43m.\u001b[39;49m\u001b[43msample\u001b[49m\u001b[43m(\u001b[49m\u001b[43moffline_agent\u001b[49m\u001b[38;5;241;43m.\u001b[39;49m\u001b[43mpolicy_learner\u001b[49m\u001b[38;5;241;43m.\u001b[39;49m\u001b[43mbatch_size\u001b[49m\u001b[43m)\u001b[49m\n\u001b[1;32m    191\u001b[0m     \u001b[38;5;28;01massert\u001b[39;00m \u001b[38;5;28misinstance\u001b[39m(batch, TransitionBatch)\n\u001b[1;32m    192\u001b[0m     loss \u001b[38;5;241m=\u001b[39m offline_agent\u001b[38;5;241m.\u001b[39mlearn_batch(batch\u001b[38;5;241m=\u001b[39mbatch)\n",
      "File \u001b[0;32m~/Pearl/swarm-rl/custom_buffer.py:133\u001b[0m, in \u001b[0;36mWeightedReplayBuffer.sample\u001b[0;34m(self, batch_size)\u001b[0m\n\u001b[1;32m    128\u001b[0m \u001b[38;5;28;01mif\u001b[39;00m batch_size \u001b[38;5;241m>\u001b[39m \u001b[38;5;28mlen\u001b[39m(\u001b[38;5;28mself\u001b[39m):\n\u001b[1;32m    129\u001b[0m     \u001b[38;5;28;01mraise\u001b[39;00m \u001b[38;5;167;01mValueError\u001b[39;00m(\n\u001b[1;32m    130\u001b[0m         \u001b[38;5;124mf\u001b[39m\u001b[38;5;124m\"\u001b[39m\u001b[38;5;124mCan\u001b[39m\u001b[38;5;124m'\u001b[39m\u001b[38;5;124mt get a batch of size \u001b[39m\u001b[38;5;132;01m{\u001b[39;00mbatch_size\u001b[38;5;132;01m}\u001b[39;00m\u001b[38;5;124m from a replay buffer with \u001b[39m\u001b[38;5;124m\"\u001b[39m\n\u001b[1;32m    131\u001b[0m         \u001b[38;5;124mf\u001b[39m\u001b[38;5;124m\"\u001b[39m\u001b[38;5;124monly \u001b[39m\u001b[38;5;132;01m{\u001b[39;00m\u001b[38;5;28mlen\u001b[39m(\u001b[38;5;28mself\u001b[39m)\u001b[38;5;132;01m}\u001b[39;00m\u001b[38;5;124m elements\u001b[39m\u001b[38;5;124m\"\u001b[39m\n\u001b[1;32m    132\u001b[0m     )\n\u001b[0;32m--> 133\u001b[0m samples \u001b[38;5;241m=\u001b[39m \u001b[43mrandom\u001b[49m\u001b[38;5;241;43m.\u001b[39;49m\u001b[43mchoices\u001b[49m\u001b[43m(\u001b[49m\u001b[38;5;28;43mself\u001b[39;49m\u001b[38;5;241;43m.\u001b[39;49m\u001b[43m_memory\u001b[49m\u001b[43m,\u001b[49m\u001b[43m \u001b[49m\u001b[43mweights\u001b[49m\u001b[38;5;241;43m=\u001b[39;49m\u001b[38;5;28;43mself\u001b[39;49m\u001b[38;5;241;43m.\u001b[39;49m\u001b[43m_weights\u001b[49m\u001b[43m,\u001b[49m\u001b[43m \u001b[49m\u001b[43mk\u001b[49m\u001b[38;5;241;43m=\u001b[39;49m\u001b[43mbatch_size\u001b[49m\u001b[43m)\u001b[49m\n\u001b[1;32m    134\u001b[0m \u001b[38;5;28;01mreturn\u001b[39;00m \u001b[38;5;28mself\u001b[39m\u001b[38;5;241m.\u001b[39m_create_transition_batch(\n\u001b[1;32m    135\u001b[0m     \u001b[38;5;66;03m# pyre-fixme[6]: For 1st argument expected `List[Transition]` but got\u001b[39;00m\n\u001b[1;32m    136\u001b[0m     \u001b[38;5;66;03m#  `List[Union[Transition, TransitionBatch]]`.\u001b[39;00m\n\u001b[1;32m    137\u001b[0m     transitions\u001b[38;5;241m=\u001b[39msamples,\n\u001b[1;32m    138\u001b[0m     is_action_continuous\u001b[38;5;241m=\u001b[39m\u001b[38;5;28mself\u001b[39m\u001b[38;5;241m.\u001b[39m_is_action_continuous,\n\u001b[1;32m    139\u001b[0m )\n",
      "File \u001b[0;32m~/miniconda3/envs/pearl-env/lib/python3.11/random.py:495\u001b[0m, in \u001b[0;36mRandom.choices\u001b[0;34m(self, population, weights, cum_weights, k)\u001b[0m\n\u001b[1;32m    493\u001b[0m     \u001b[38;5;28;01mreturn\u001b[39;00m [population[floor(random() \u001b[38;5;241m*\u001b[39m n)] \u001b[38;5;28;01mfor\u001b[39;00m i \u001b[38;5;129;01min\u001b[39;00m _repeat(\u001b[38;5;28;01mNone\u001b[39;00m, k)]\n\u001b[1;32m    494\u001b[0m \u001b[38;5;28;01mtry\u001b[39;00m:\n\u001b[0;32m--> 495\u001b[0m     cum_weights \u001b[38;5;241m=\u001b[39m \u001b[38;5;28mlist\u001b[39m(_accumulate(weights))\n\u001b[1;32m    496\u001b[0m \u001b[38;5;28;01mexcept\u001b[39;00m \u001b[38;5;167;01mTypeError\u001b[39;00m:\n\u001b[1;32m    497\u001b[0m     \u001b[38;5;28;01mif\u001b[39;00m \u001b[38;5;129;01mnot\u001b[39;00m \u001b[38;5;28misinstance\u001b[39m(weights, \u001b[38;5;28mint\u001b[39m):\n",
      "\u001b[0;31mKeyboardInterrupt\u001b[0m: "
     ]
    }
   ],
   "source": [
    "# Number of training epochs\n",
    "training_epochs = 50\n",
    "experiment_seed = 100\n",
    "\n",
    "with open(loss_log_file,\"w\") as f:\n",
    "    pass\n",
    "\n",
    "offline_learning(\n",
    "    offline_agent=agent,\n",
    "    data_buffer=offline_data_replay_buffer, # replay buffer created using the offline data\n",
    "    training_epochs=training_epochs,\n",
    "    seed=experiment_seed,\n",
    ")"
   ]
  },
  {
   "cell_type": "code",
   "execution_count": 10,
   "id": "b4260a2ea2068b4",
   "metadata": {
    "ExecuteTime": {
     "end_time": "2025-01-06T01:51:19.407144400Z",
     "start_time": "2025-01-01T18:39:23.591386Z"
    }
   },
   "outputs": [],
   "source": [
    "with open(\"agent.pkl\", \"wb\") as f:\n",
    "    pickle.dump(agent, f)\n",
    "    \n",
    "\n",
    "torch.save(agent.policy_learner._Q._model, \"Q_function.pth\")"
   ]
  }
 ],
 "metadata": {
  "kernelspec": {
   "display_name": "pearl-env",
   "language": "python",
   "name": "python3"
  },
  "language_info": {
   "codemirror_mode": {
    "name": "ipython",
    "version": 3
   },
   "file_extension": ".py",
   "mimetype": "text/x-python",
   "name": "python",
   "nbconvert_exporter": "python",
   "pygments_lexer": "ipython3",
   "version": "3.11.11"
  }
 },
 "nbformat": 4,
 "nbformat_minor": 5
}
